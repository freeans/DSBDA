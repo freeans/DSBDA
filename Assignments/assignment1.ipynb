{
  "cells": [
    {
      "cell_type": "markdown",
      "id": "3b21fee9",
      "metadata": {
        "id": "3b21fee9"
      },
      "source": []
    },
    {
      "cell_type": "code",
      "execution_count": null,
      "id": "30099195",
      "metadata": {
        "id": "30099195"
      },
      "outputs": [],
      "source": [
        "import pandas as pd\n",
        "import numpy as np\n",
        "\n",
        "# Load dataset (Update the path to where your dataset is located)\n",
        "df = pd.read_csv('dataset_Facebook.csv', sep=\";\")\n",
        "df.head()"
      ]
    },
    {
      "cell_type": "code",
      "execution_count": null,
      "id": "961d8389",
      "metadata": {
        "id": "961d8389"
      },
      "outputs": [],
      "source": [
        "# Subset where Type is Photo\n",
        "subset1 = df.loc[df[\"Type\"] == \"Photo\"]\n",
        "subset1.to_csv('photo_data.csv')\n",
        "\n",
        "# Subset by row position\n",
        "temp = df.iloc[10:25]\n",
        "print(temp)\n",
        "\n",
        "# Subset by selecting specific rows and columns\n",
        "df1 = df[['Type', 'Category', 'comment']].loc[4:17]\n",
        "df2 = df[['Type', 'Category', 'Paid']].loc[24:30]\n",
        "df3 = df[['Type', 'Category', 'Paid']].loc[31:35]\n",
        "\n",
        "print(\"\\nDF1\\n\", df1)\n",
        "print(\"\\nDF2\\n\", df2)\n",
        "print(\"\\nDF3\\n\", df3)"
      ]
    },
    {
      "cell_type": "code",
      "execution_count": null,
      "id": "7555b98f",
      "metadata": {
        "id": "7555b98f"
      },
      "outputs": [],
      "source": [
        "merged_df = pd.concat([df1, df2, df3])\n",
        "merged_df"
      ]
    },
    {
      "cell_type": "code",
      "execution_count": null,
      "id": "950aa7db",
      "metadata": {
        "id": "950aa7db"
      },
      "outputs": [],
      "source": [
        "df_sorted = df.sort_values(['Category', 'Paid'], ascending=False)\n",
        "df_sorted.head()"
      ]
    },
    {
      "cell_type": "code",
      "execution_count": null,
      "id": "8f956ee6",
      "metadata": {
        "id": "8f956ee6"
      },
      "outputs": [],
      "source": [
        "df_transposed = df.transpose()\n",
        "df_transposed.head()"
      ]
    },
    {
      "cell_type": "code",
      "execution_count": null,
      "id": "bfe5c410",
      "metadata": {
        "id": "bfe5c410"
      },
      "outputs": [],
      "source": [
        "print(df1)\n",
        "\n",
        "# Reshape using melt\n",
        "df_melted = df1.melt(id_vars=None, value_vars=None, ignore_index=False)\n",
        "print(df_melted)\n",
        "\n",
        "# Pivot the melted data\n",
        "df_pivoted = df_melted.pivot(columns='variable', values='value')\n",
        "print(df_pivoted)"
      ]
    }
  ],
  "metadata": {
    "colab": {
      "provenance": []
    },
    "language_info": {
      "name": "python"
    },
    "kernelspec": {
      "name": "python3",
      "display_name": "Python 3"
    }
  },
  "nbformat": 4,
  "nbformat_minor": 5
}